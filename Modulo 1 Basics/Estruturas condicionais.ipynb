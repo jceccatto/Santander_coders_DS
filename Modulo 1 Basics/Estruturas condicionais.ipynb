{
 "cells": [
  {
   "cell_type": "code",
   "execution_count": 3,
   "id": "a0c35da6",
   "metadata": {},
   "outputs": [
    {
     "name": "stdout",
     "output_type": "stream",
     "text": [
      "qual o valor da corrida?: 17\n",
      "pague a corrida\n"
     ]
    }
   ],
   "source": [
    "valor_passagem = 4.30\n",
    "\n",
    "valor_corrida = input('qual o valor da corrida?: ')\n",
    "\n",
    "if float(valor_corrida) <= valor_passagem * 5:\n",
    "    print('pague a corrida')\n",
    "if float(valor_corrida) > valor_passagem * 5:\n",
    "    print('pegue o onibus')\n"
   ]
  },
  {
   "cell_type": "code",
   "execution_count": 4,
   "id": "3f72947b",
   "metadata": {},
   "outputs": [
    {
     "name": "stdout",
     "output_type": "stream",
     "text": [
      "qual o valor da corrida?: 30\n",
      "pegue o onibus\n"
     ]
    }
   ],
   "source": [
    "valor_passagem = 4.30\n",
    "\n",
    "valor_corrida = input('qual o valor da corrida?: ')\n",
    "\n",
    "if float(valor_corrida) <= valor_passagem * 5:\n",
    "    print('pague a corrida')\n",
    "else:\n",
    "    print('pegue o onibus')\n"
   ]
  },
  {
   "cell_type": "code",
   "execution_count": 9,
   "id": "8a1179f5",
   "metadata": {},
   "outputs": [
    {
     "name": "stdout",
     "output_type": "stream",
     "text": [
      "qual o valor da corrida?: 35\n",
      "pegue o onibus\n"
     ]
    }
   ],
   "source": [
    "valor_passagem = 4.30\n",
    "\n",
    "valor_corrida = input('qual o valor da corrida?: ')\n",
    "\n",
    "if float(valor_corrida) <= valor_passagem * 5:\n",
    "    print('pague a corrida')\n",
    "else:\n",
    "    if float(valor_corrida) <= valor_passagem * 6:\n",
    "        print('Aguarde um mmomento, o valor pode abaixar')\n",
    "    else: \n",
    "        print('pegue o onibus')\n"
   ]
  },
  {
   "cell_type": "code",
   "execution_count": 12,
   "id": "486f855a",
   "metadata": {},
   "outputs": [
    {
     "name": "stdout",
     "output_type": "stream",
     "text": [
      "qual o valor da corrida?: 35\n",
      "pegue o onibus\n"
     ]
    }
   ],
   "source": [
    "valor_passagem = 4.30\n",
    "\n",
    "valor_corrida = input('qual o valor da corrida?: ')\n",
    "\n",
    "if float(valor_corrida) <= valor_passagem * 5:\n",
    "    print('pague a corrida')\n",
    "elif float(valor_corrida) <= valor_passagem * 6:\n",
    "    print('Aguarde um mmomento, o valor pode abaixar')\n",
    "else: \n",
    "    print('pegue o onibus')"
   ]
  }
 ],
 "metadata": {
  "kernelspec": {
   "display_name": "Python 3 (ipykernel)",
   "language": "python",
   "name": "python3"
  },
  "language_info": {
   "codemirror_mode": {
    "name": "ipython",
    "version": 3
   },
   "file_extension": ".py",
   "mimetype": "text/x-python",
   "name": "python",
   "nbconvert_exporter": "python",
   "pygments_lexer": "ipython3",
   "version": "3.10.0"
  }
 },
 "nbformat": 4,
 "nbformat_minor": 5
}
